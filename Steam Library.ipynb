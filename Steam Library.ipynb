{
 "cells": [
  {
   "cell_type": "code",
   "execution_count": 1,
   "id": "e29f2371",
   "metadata": {},
   "outputs": [],
   "source": [
    "import pandas as pd\n",
    "import numpy as np\n",
    "from math import floor"
   ]
  },
  {
   "cell_type": "markdown",
   "id": "268f53e2",
   "metadata": {},
   "source": [
    "To use this program, you'll need to make an account on completionist.me. Find your list of games and select \"Flat\" display. Sort by your playtime to see your top 100 games. Currently, you'll have to do some work yourself, but if I continue with this project I might try to automate it. \n",
    "\n",
    "On the page for your top 100 games, hit \"View Source\" and save the html file you get to this repository. Insert the name of the file into the following quotations:"
   ]
  },
  {
   "cell_type": "code",
   "execution_count": 12,
   "id": "70543320",
   "metadata": {},
   "outputs": [],
   "source": [
    "file = ''"
   ]
  },
  {
   "cell_type": "code",
   "execution_count": 3,
   "id": "82941d37",
   "metadata": {},
   "outputs": [],
   "source": [
    "def Cleanup(games):\n",
    "    '''Cleans up a games dataframe taken from completionist.me'''\n",
    "    \n",
    "    #Set index to title\n",
    "    games = games.set_index('Game')\n",
    "    \n",
    "    #Drops null or unneeded columns\n",
    "    games = games.dropna(axis=1,how='all')\n",
    "    games = games.drop(['Last Unlock','Type / Systems', 'Achievements Change','Stats'],axis=1)\n",
    "    \n",
    "    #Drops unplayed games\n",
    "    games = games[(games['Playtime'].isna()) == False]\n",
    "    \n",
    "    #Gets rid of recent playtime\n",
    "    games['Playtime'] = games['Playtime'].str.split('+').apply(lambda x: x[0]).str.strip()\n",
    "    \n",
    "    #Keeps only games played for more than an hour\n",
    "    games = games[games['Playtime'].str.contains('h')]\n",
    "    \n",
    "    #Converts playtime from hours/minutes to total minutes\n",
    "    games['Hours'] = games['Playtime'].str.split().apply(lambda x: x[0]).str.strip('h').astype(int)\n",
    "    games['Minutes'] = games['Playtime'].str.split().apply(lambda x: x[1]).str.strip('m').astype(int)\n",
    "    games['Playtime'] = games['Hours'] * 60 + games['Minutes']\n",
    "    games = games.drop(['Hours','Minutes'], axis=1)\n",
    "    \n",
    "    #Creates a game completion column based on achievements\n",
    "    #This isn't used for the chooseGames function, but satisfies curiosity\n",
    "    games['Achv_Completed'] = games[(games['Achievements'].isna() == False) & \n",
    "                               (games['Achievements'].str.contains('/'))]['Achievements'].str.split('/')\\\n",
    "                                .apply(lambda x: x[0]).astype(float)\n",
    "    games['Achv_Possible'] = games[games['Achievements'].isna() == False]['Achievements']\\\n",
    "                                .str.split('/').apply(lambda x: x[-1]).astype(float)\n",
    "    games['Achv_%'] = round(games['Achv_Completed'] / games['Achv_Possible'] * 100, 1)\n",
    "    games.loc[(games['Achv_%'].isna()) & (~(games['Achv_Possible'].isna())), 'Achv_%'] = 0\n",
    "    games.drop(['Achievements'],axis=1,inplace=True)\n",
    "    \n",
    "    #Fixes the rating to be just one number instead of two. \n",
    "    #Also not used by randomization function\n",
    "    games['Rating'] = games['Rating'].apply(lambda x: (float(str(x).split()[0])))\n",
    "    \n",
    "    #Sorts by time played\n",
    "    games.sort_values('Playtime',ascending=False,inplace=True)\n",
    "    \n",
    "    return games\n",
    "    "
   ]
  },
  {
   "cell_type": "code",
   "execution_count": 4,
   "id": "eb995079",
   "metadata": {},
   "outputs": [],
   "source": [
    "def chooseGames(df, choices):\n",
    "    '''Takes in a games dataframe and how many options the user wants\n",
    "    Returns a list of game options, randomly chosen but weighted by playtime.'''\n",
    "    winners = []\n",
    "    for choice in range(choices):\n",
    "        winners.append(np.random.choice(games.index,p=(games['Playtime']/games['Playtime'].sum())))\n",
    "    return df.loc[df.index.isin(winners)]"
   ]
  },
  {
   "cell_type": "code",
   "execution_count": 5,
   "id": "f5aee3f4",
   "metadata": {},
   "outputs": [],
   "source": [
    "games = pd.read_html(file, header=0)[0]"
   ]
  },
  {
   "cell_type": "code",
   "execution_count": 6,
   "id": "4e0206c4",
   "metadata": {},
   "outputs": [],
   "source": [
    "games = Cleanup(games)"
   ]
  },
  {
   "cell_type": "markdown",
   "id": "666ba584",
   "metadata": {},
   "source": [
    "Here is a sample function call. To try it with your own games, select a number of choices you want to give yourself, put it where the 3 is currently, and run the cell.  If you get fewer games than you asked for, the same game came up more than once, which is a sign that you should definitely play one of them. "
   ]
  },
  {
   "cell_type": "code",
   "execution_count": 11,
   "id": "82f9be50",
   "metadata": {},
   "outputs": [
    {
     "data": {
      "text/html": [
       "<div>\n",
       "<style scoped>\n",
       "    .dataframe tbody tr th:only-of-type {\n",
       "        vertical-align: middle;\n",
       "    }\n",
       "\n",
       "    .dataframe tbody tr th {\n",
       "        vertical-align: top;\n",
       "    }\n",
       "\n",
       "    .dataframe thead th {\n",
       "        text-align: right;\n",
       "    }\n",
       "</style>\n",
       "<table border=\"1\" class=\"dataframe\">\n",
       "  <thead>\n",
       "    <tr style=\"text-align: right;\">\n",
       "      <th></th>\n",
       "      <th>Playtime</th>\n",
       "      <th>Last Played</th>\n",
       "      <th>Rating</th>\n",
       "      <th>Developer / Publisher</th>\n",
       "      <th>Achv_Completed</th>\n",
       "      <th>Achv_Possible</th>\n",
       "      <th>Achv_%</th>\n",
       "    </tr>\n",
       "    <tr>\n",
       "      <th>Game</th>\n",
       "      <th></th>\n",
       "      <th></th>\n",
       "      <th></th>\n",
       "      <th></th>\n",
       "      <th></th>\n",
       "      <th></th>\n",
       "      <th></th>\n",
       "    </tr>\n",
       "  </thead>\n",
       "  <tbody>\n",
       "    <tr>\n",
       "      <th>Tropico 4</th>\n",
       "      <td>5302</td>\n",
       "      <td>2022-12-26  03:36:57</td>\n",
       "      <td>89.23</td>\n",
       "      <td>Haemimont Games  Kalypso Media Digital</td>\n",
       "      <td>24.0</td>\n",
       "      <td>70.0</td>\n",
       "      <td>34.3</td>\n",
       "    </tr>\n",
       "    <tr>\n",
       "      <th>Planet Zoo</th>\n",
       "      <td>1405</td>\n",
       "      <td>2023-02-18  09:45:11</td>\n",
       "      <td>89.08</td>\n",
       "      <td>Frontier Developments  Frontier Developments</td>\n",
       "      <td>15.0</td>\n",
       "      <td>38.0</td>\n",
       "      <td>39.5</td>\n",
       "    </tr>\n",
       "    <tr>\n",
       "      <th>Littlewood</th>\n",
       "      <td>419</td>\n",
       "      <td>2023-02-20  05:42:15</td>\n",
       "      <td>90.80</td>\n",
       "      <td>Sean Young  SmashGames</td>\n",
       "      <td>11.0</td>\n",
       "      <td>60.0</td>\n",
       "      <td>18.3</td>\n",
       "    </tr>\n",
       "  </tbody>\n",
       "</table>\n",
       "</div>"
      ],
      "text/plain": [
       "            Playtime           Last Played  Rating  \\\n",
       "Game                                                 \n",
       "Tropico 4       5302  2022-12-26  03:36:57   89.23   \n",
       "Planet Zoo      1405  2023-02-18  09:45:11   89.08   \n",
       "Littlewood       419  2023-02-20  05:42:15   90.80   \n",
       "\n",
       "                                   Developer / Publisher  Achv_Completed  \\\n",
       "Game                                                                       \n",
       "Tropico 4         Haemimont Games  Kalypso Media Digital            24.0   \n",
       "Planet Zoo  Frontier Developments  Frontier Developments            15.0   \n",
       "Littlewood                        Sean Young  SmashGames            11.0   \n",
       "\n",
       "            Achv_Possible  Achv_%  \n",
       "Game                               \n",
       "Tropico 4            70.0    34.3  \n",
       "Planet Zoo           38.0    39.5  \n",
       "Littlewood           60.0    18.3  "
      ]
     },
     "execution_count": 11,
     "metadata": {},
     "output_type": "execute_result"
    }
   ],
   "source": [
    "choices = 3\n",
    "chooseGames(games, choices)"
   ]
  }
 ],
 "metadata": {
  "kernelspec": {
   "display_name": "Python 3 (ipykernel)",
   "language": "python",
   "name": "python3"
  },
  "language_info": {
   "codemirror_mode": {
    "name": "ipython",
    "version": 3
   },
   "file_extension": ".py",
   "mimetype": "text/x-python",
   "name": "python",
   "nbconvert_exporter": "python",
   "pygments_lexer": "ipython3",
   "version": "3.10.6"
  }
 },
 "nbformat": 4,
 "nbformat_minor": 5
}
